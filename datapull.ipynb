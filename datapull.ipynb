{
 "cells": [
  {
   "cell_type": "code",
   "execution_count": 1,
   "metadata": {},
   "outputs": [],
   "source": [
    "import fitbit\n",
    "import datetime\n",
    "import pandas as pd\n",
    "import json\n",
    "import numpy as np\n",
    "import yaml\n",
    "import datapull\n",
    "# from datapull import gather_keys_oauth2 as Oauth2"
   ]
  },
  {
   "cell_type": "code",
   "execution_count": 21,
   "metadata": {},
   "outputs": [],
   "source": [
    "dataset = {}\n",
    "activities = [\n",
    "    {\n",
    "        'prefix': 'activities/',\n",
    "        'activities':  ['calories','steps', 'distance']\n",
    "    },\n",
    "    {\n",
    "        'prefix':'activities/tracker/',\n",
    "        'activities': ['minutesSedentary','minutesLightlyActive',\n",
    "                       'minutesFairlyActive','minutesVeryActive']\n",
    "    }\n",
    "]\n",
    "\n",
    "# https://towardsdatascience.com/collect-your-own-fitbit-data-with-python-ff145fa10873\n",
    "# Note that date must be formatted with dashes!\n",
    "yesterday = str((datetime.datetime.now() - \n",
    "                 datetime.timedelta(days=1)).strftime(\"%Y-%m-%d\"))\n",
    "\n",
    "today = str(datetime.datetime.now().strftime(\"%Y-%m-%d\"))"
   ]
  },
  {
   "cell_type": "code",
   "execution_count": 3,
   "metadata": {},
   "outputs": [
    {
     "name": "stderr",
     "output_type": "stream",
     "text": [
      "<ipython-input-3-3621cfc7f8c4>:4: YAMLLoadWarning: calling yaml.load() without Loader=... is deprecated, as the default Loader is unsafe. Please read https://msg.pyyaml.org/load for full details.\n",
      "  app_cred = yaml.load(stream)\n",
      "<ipython-input-3-3621cfc7f8c4>:9: YAMLLoadWarning: calling yaml.load() without Loader=... is deprecated, as the default Loader is unsafe. Please read https://msg.pyyaml.org/load for full details.\n",
      "  user_cred = yaml.load(stream)\n"
     ]
    }
   ],
   "source": [
    "# Get the auth credentials for our registered application\n",
    "app_cred = None\n",
    "with open(\"app_cred.yaml\", 'r') as stream:\n",
    "    app_cred = yaml.load(stream)\n",
    "\n",
    "# Get the user credentials for our example user\n",
    "user_cred = None\n",
    "with open(\"user_cred.yaml\", 'r') as stream:\n",
    "    user_cred = yaml.load(stream)"
   ]
  },
  {
   "cell_type": "code",
   "execution_count": 4,
   "metadata": {},
   "outputs": [
    {
     "name": "stderr",
     "output_type": "stream",
     "text": [
      "[06/Apr/2020:11:04:57] ENGINE Listening for SIGTERM.\n",
      "[06/Apr/2020:11:04:57] ENGINE Listening for SIGHUP.\n",
      "[06/Apr/2020:11:04:57] ENGINE Listening for SIGUSR1.\n",
      "[06/Apr/2020:11:04:57] ENGINE Bus STARTING\n",
      "CherryPy Checker:\n",
      "The Application mounted at '' has an empty config.\n",
      "\n",
      "[06/Apr/2020:11:04:57] ENGINE Started monitor thread 'Autoreloader'.\n",
      "[06/Apr/2020:11:04:57] ENGINE Serving on http://127.0.0.1:8080\n",
      "[06/Apr/2020:11:04:57] ENGINE Bus STARTED\n"
     ]
    },
    {
     "name": "stdout",
     "output_type": "stream",
     "text": [
      "hello\n",
      "good day\n",
      "https://www.fitbit.com/oauth2/authorize?response_type=code&client_id=22BHGG&redirect_uri=http%3A%2F%2F127.0.0.1%3A8080%2F&scope=activity+nutrition+heartrate+location+nutrition+profile+settings+sleep+social+weight&state=6vfoZkyTFc4K5QUew4UwFpmYopa6rB\n",
      "opened web browser in new thread\n",
      "127.0.0.1 - - [06/Apr/2020:11:05:11] \"GET /?code=eb63d6199ff7904d59344c36b5d95fc032f0ac92&state=6vfoZkyTFc4K5QUew4UwFpmYopa6rB HTTP/1.1\" 200 122 \"\" \"Mozilla/5.0 (Windows NT 10.0; Win64; x64; rv:74.0) Gecko/20100101 Firefox/74.0\"\n"
     ]
    },
    {
     "name": "stderr",
     "output_type": "stream",
     "text": [
      "[06/Apr/2020:11:05:12] ENGINE Bus STOPPING\n",
      "[06/Apr/2020:11:05:12] ENGINE HTTP Server cherrypy._cpwsgi_server.CPWSGIServer(('127.0.0.1', 8080)) shut down\n",
      "[06/Apr/2020:11:05:12] ENGINE Stopped thread 'Autoreloader'.\n",
      "[06/Apr/2020:11:05:12] ENGINE Bus STOPPED\n",
      "[06/Apr/2020:11:05:12] ENGINE Bus EXITING\n",
      "[06/Apr/2020:11:05:12] ENGINE Bus EXITED\n",
      "[06/Apr/2020:11:05:12] ENGINE Waiting for child threads to terminate...\n"
     ]
    },
    {
     "name": "stdout",
     "output_type": "stream",
     "text": [
      "yo\n"
     ]
    },
    {
     "data": {
      "text/plain": [
       "<fitbit.api.Fitbit at 0x7f229c2c4880>"
      ]
     },
     "execution_count": 4,
     "metadata": {},
     "output_type": "execute_result"
    }
   ],
   "source": [
    "# Get authorized access to our regsitered app\n",
    "# Need to change this to match Navreet's initial code after we create more client accounts\n",
    "\n",
    "# Note that I have to manually click the auth URL since it's not cooperating by pulling up in a separate \n",
    "# tab, for some reason :| \n",
    "fitbit = datapull.authorize(app_cred['client_id'], \n",
    "                            app_cred['client_secret'])\n",
    "fitbit\n"
   ]
  },
  {
   "cell_type": "code",
   "execution_count": 22,
   "metadata": {},
   "outputs": [
    {
     "name": "stderr",
     "output_type": "stream",
     "text": [
      "<ipython-input-22-085ba3495790>:11: FutureWarning: pandas.io.json.json_normalize is deprecated, use pandas.json_normalize instead\n",
      "  df=pd.io.json.json_normalize(data[act_resource_path.replace('/', \"-\")])\n"
     ]
    },
    {
     "data": {
      "text/plain": [
       "{'calories':      dateTime value user_ID\n",
       " 0  2020-04-05  1708  8CLMVR\n",
       " 1  2020-04-06   833  8CLMVR,\n",
       " 'steps':      dateTime value user_ID\n",
       " 0  2020-04-05     0  8CLMVR\n",
       " 1  2020-04-06     0  8CLMVR,\n",
       " 'distance':      dateTime value user_ID\n",
       " 0  2020-04-05   0.0  8CLMVR\n",
       " 1  2020-04-06   0.0  8CLMVR,\n",
       " 'minutesSedentary':      dateTime value user_ID\n",
       " 0  2020-04-05  1440  8CLMVR\n",
       " 1  2020-04-06   702  8CLMVR,\n",
       " 'minutesLightlyActive':      dateTime value user_ID\n",
       " 0  2020-04-05     0  8CLMVR\n",
       " 1  2020-04-06     0  8CLMVR,\n",
       " 'minutesFairlyActive':      dateTime value user_ID\n",
       " 0  2020-04-05     0  8CLMVR\n",
       " 1  2020-04-06     0  8CLMVR,\n",
       " 'minutesVeryActive':      dateTime value user_ID\n",
       " 0  2020-04-05     0  8CLMVR\n",
       " 1  2020-04-06     0  8CLMVR}"
      ]
     },
     "execution_count": 22,
     "metadata": {},
     "output_type": "execute_result"
    }
   ],
   "source": [
    "# Create our dataset (a dictionary of pandas dataframes, with one dataframe per activity type)\n",
    "for act_group in activities:\n",
    "    for act in act_group['activities']:\n",
    "        act_resource_path = act_group['prefix'] + act\n",
    "        user_id = user_cred['user_id']\n",
    "        data = fitbit.time_series(act_resource_path, \n",
    "                                  user_id=user_id, \n",
    "                                  base_date=yesterday,\n",
    "                                  end_date=today)\n",
    "        \n",
    "        df=pd.io.json.json_normalize(data[act_resource_path.replace('/', \"-\")])\n",
    "\n",
    "        #Shouldn't we change this to anonymize the data to P1, P2, etc?\n",
    "        df['user_ID']=user_id\n",
    "        dataset[act] = df\n",
    "dataset\n",
    "        \n"
   ]
  }
 ],
 "metadata": {
  "kernelspec": {
   "display_name": "sch-fitbit",
   "language": "python",
   "name": "sch-fitbit"
  },
  "language_info": {
   "codemirror_mode": {
    "name": "ipython",
    "version": 3
   },
   "file_extension": ".py",
   "mimetype": "text/x-python",
   "name": "python",
   "nbconvert_exporter": "python",
   "pygments_lexer": "ipython3",
   "version": "3.8.2"
  }
 },
 "nbformat": 4,
 "nbformat_minor": 2
}
