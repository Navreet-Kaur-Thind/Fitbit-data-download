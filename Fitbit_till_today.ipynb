{
 "cells": [
  {
   "cell_type": "code",
   "execution_count": 1,
   "metadata": {},
   "outputs": [],
   "source": [
    "import fitbit\n",
    "import datetime\n",
    "import pandas as pd\n",
    "import json\n",
    "import numpy as np"
   ]
  },
  {
   "cell_type": "code",
   "execution_count": 3,
   "metadata": {},
   "outputs": [],
   "source": [
    "def convert_string_to_date(date):\n",
    "    return datetime.datetime.strptime(date, '%m/%d/%Y').date()"
   ]
  },
  {
   "cell_type": "code",
   "execution_count": 4,
   "metadata": {},
   "outputs": [],
   "source": [
    "def days_between(d1, d2):\n",
    "    return abs((d2 - d1).days)"
   ]
  },
  {
   "cell_type": "code",
   "execution_count": 5,
   "metadata": {},
   "outputs": [],
   "source": [
    "def get_daily_data(fitbit_object,activity_type,ID,start_date,last_date,treatment,u_ID):\n",
    "    fitbit_data=fitbit_object.time_series(activity_type, user_id=ID, base_date=start_date,end_date=last_date)\n",
    "    activity_type=activity_type.replace('/', \"-\")\n",
    "    dfItem=pd.io.json.json_normalize(fitbit_data[activity_type])\n",
    "    dfItem['group']=treatment\n",
    "    dfItem['user_ID']=u_ID\n",
    "    dfItem['month_of_treatment']=(np.arange(days_between(start_date,last_date)+1)/30).astype(int)\n",
    "    dfItem['day_of_treatment']=np.arange(days_between(start_date,last_date)+1)\n",
    "    return dfItem"
   ]
  },
  {
   "cell_type": "code",
   "execution_count": 7,
   "metadata": {},
   "outputs": [
    {
     "data": {
      "text/plain": [
       "\"df_calories_3month.to_csv('Calories_3month.csv', header=True, index = False)  \\ndf_steps_3month.to_csv('Steps_3month.csv', header=True, index = False)\\ndf_distance_3month.to_csv('Distance_3month.csv', header=True, index = False)\\ndf_heart_3month.to_csv('Heart_3month.csv', header=True, index = False)\\ndf_bmi_3month.to_csv('Bmi_3month.csv', header=True, index = False)\\ndf_fat_3month.to_csv('Fat_3month.csv', header=True, index = False)\\ndf_weight_3month.to_csv('Weight_3month.csv', header=True, index = False)\\n\\ndf_minutesSedentary_3month.to_csv('MS_3month.csv', header=True, index = False)\\ndf_minutesLightlyActive_3month.to_csv('MLA_3month.csv', header=True, index = False)\\ndf_minutesFairlyActive_3month.to_csv('MFA_3month.csv', header=True, index = False)\\ndf_minutesVeryActive_3month.to_csv('MVA_3month.csv', header=True, index = False)\\n#df_activityCalories_3month.to_csv('AC_3month.csv', header=True, index = False)\\n\""
      ]
     },
     "execution_count": 7,
     "metadata": {},
     "output_type": "execute_result"
    }
   ],
   "source": [
    "df_calories_till_today=pd.DataFrame()\n",
    "df_steps_till_today=pd.DataFrame()\n",
    "df_distance_till_today=pd.DataFrame()\n",
    "df_bmi_till_today=pd.DataFrame()\n",
    "df_fat_till_today=pd.DataFrame()\n",
    "df_weight_till_today=pd.DataFrame()\n",
    "df_minutesSedentary_till_today=pd.DataFrame()\n",
    "df_minutesLightlyActive_till_today=pd.DataFrame()\n",
    "df_minutesFairlyActive_till_today=pd.DataFrame()\n",
    "df_minutesVeryActive_till_todaye=pd.DataFrame()\n",
    "\n",
    "\n",
    "activity =[\"calories\", \"steps\", \"distance\",\"minutesSedentary\",\"minutesLightlyActive\",\"minutesFairlyActive\",\"minutesVeryActive\",\"activityCalories\",\"bmi\",\"fat\",\"weight\"]\n",
    "\n",
    "fitbit_login=pd.read_csv(\"fitbitSubjectTokens_workingOnly.csv\")\n",
    "for i in range (fitbit_login.shape[0]):\n",
    "    ID=fitbit_login['User_ID'][i]\n",
    "    client_id=fitbit_login['Client_ID'][i]\n",
    "    client_secret=fitbit_login['Client_secret'][i]\n",
    "    participant_id=fitbit_login['Participant'][i]\n",
    "    token=fitbit_login['Access_Token'][i]\n",
    "    start_per1=fitbit_login['Start_per1'][i]\n",
    "    start_per2=fitbit_login['Start_per2'][i]\n",
    "    start_per3=fitbit_login['Start_per3'][i]\n",
    "    end_per1=fitbit_login['End_per1'][i]\n",
    "    end_per2=fitbit_login['End_per2'][i]\n",
    "    end_per3=fitbit_login['End_per3'][i]\n",
    "    treatment=fitbit_login['treatment'][i]\n",
    "    if not start_per1 is np.NaN:\n",
    "        start_date=convert_string_to_date(start_per1)\n",
    "        end_date=datetime.date.today()\n",
    "        fitbit_object=fitbit.Fitbit(client_id, client_secret,token,token)\n",
    "        for j in range(len(activity)):\n",
    "            activity_type=activity[j]\n",
    "            if activity_type=='calories'or activity_type=='steps' or activity_type=='distance' or activity_type=='heart':\n",
    "                df=get_daily_data(fitbit_object,'activities/'+activity_type,ID,start_date,end_date,treatment,ID)\n",
    "                if activity_type=='calories':\n",
    "                    df_calories_till_today = df_calories_till_today.append(df, ignore_index=True)\n",
    "                elif activity_type=='steps':\n",
    "                    df_steps_till_today = df_steps_till_today.append(df, ignore_index=True)\n",
    "                elif activity_type=='distance':\n",
    "                    df_distance_till_today = df_distance_till_today.append(df, ignore_index=True)\n",
    "                else:\n",
    "                    df_heart_till_today = df_heart_till_today.append(df, ignore_index=True)\n",
    "            else:\n",
    "                if activity_type=='sleep':\n",
    "                    print(\"do nothing in sleep\")\n",
    "                    #df=get_daily_data(fitbit_object,activity_type,ID,start_date,end_date)\n",
    "                else:\n",
    "                    if activity_type=='bmi' or activity_type=='fat' or activity_type=='weight':\n",
    "                        df=get_daily_data(fitbit_object,'body/'+activity_type,ID,start_date,end_date,treatment,ID)\n",
    "                        if activity_type=='bmi':\n",
    "                            df_bmi_till_today = df_bmi_till_today.append(df, ignore_index=True)\n",
    "                        elif activity_type=='fat':\n",
    "                            df_fat_till_today= df_fat_till_today.append(df, ignore_index=True)\n",
    "                        else:\n",
    "                            df_weight_till_today = df_weight_till_today.append(df, ignore_index=True)\n",
    "                    else:\n",
    "                        print(\"do nothing in activities tracker\")\n",
    "                        df=get_daily_data(fitbit_object,'activities/tracker/'+activity_type,ID,start_date,end_date,treatment,ID)\n",
    "                        if activity_type=='minutesSedentary':\n",
    "                            df_minutesSedentary_till_today = df_minutesSedentary.append(df, ignore_index=True)\n",
    "                        elif activity_type=='minutesLightlyActive':\n",
    "                            df_minutesLightlyActive_till_today = df_minutesLightlyActive.append(df, ignore_index=True)\n",
    "                        elif activity_type=='minutesFairlyActive':\n",
    "                            df_minutesFairlyActive_till_today = df_minutesFairlyActive.append(df, ignore_index=True)                              \n",
    "                        elif activity_type=='minutesVeryActive':    \n",
    "                            df_minutesVeryActive_till_today = df_minutesVeryActive.append(df, ignore_index=True)                          \n",
    "                        #else:\n",
    "                            #df_activityCalories = df_activityCalories.append(df, ignore_index=True)'''\n",
    "df_minutesSedentary_till_today.to_csv('MS_till_today.csv', header=True, index = False)\n",
    "df_minutesLightlyActive_till_today.to_csv('MLA_till_today.csv', header=True, index = False)\n",
    "df_minutesFairlyActive_till_today.to_csv('MFA_till_today.csv', header=True, index = False)\n",
    "df_minutesVeryActive_till_today.to_csv('MVA_till_today.csv', header=True, index = False)\n",
    "#df_activityCalories.to_csv('AC_till_today.csv', header=True, index = False)\n",
    "\n",
    "df_calories_till_today.to_csv('Calories.csv', header=True, index = False)  \n",
    "df_steps_till_today.to_csv('Steps.csv', header=True, index = False)\n",
    "df_distance_till_today.to_csv('Distance.csv', header=True, index = False)\n",
    "#df_heart_till_today.to_csv('Heart.csv', header=True, index = False)\n",
    "df_bmi_till_today.to_csv('Bmi.csv', header=True, index = False)\n",
    "df_fat_till_today.to_csv('Fat.csv', header=True, index = False)\n",
    "df_weight_till_today.to_csv('Weight.csv', header=True, index = False)\n"
   ]
  }
 ],
 "metadata": {
  "kernelspec": {
   "display_name": "Python 3",
   "language": "python",
   "name": "python3"
  },
  "language_info": {
   "codemirror_mode": {
    "name": "ipython",
    "version": 3
   },
   "file_extension": ".py",
   "mimetype": "text/x-python",
   "name": "python",
   "nbconvert_exporter": "python",
   "pygments_lexer": "ipython3",
   "version": "3.7.1"
  }
 },
 "nbformat": 4,
 "nbformat_minor": 2
}
