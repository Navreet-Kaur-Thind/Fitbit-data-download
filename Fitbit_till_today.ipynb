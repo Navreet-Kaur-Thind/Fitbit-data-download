{
 "cells": [
  {
   "cell_type": "code",
   "execution_count": 1,
   "metadata": {},
   "outputs": [],
   "source": [
    "import fitbit\n",
    "import datetime\n",
    "import pandas as pd\n",
    "import json\n",
    "import numpy as np"
   ]
  },
  {
   "cell_type": "code",
   "execution_count": 3,
   "metadata": {},
   "outputs": [],
   "source": [
    "def convert_string_to_date(date):\n",
    "    return datetime.datetime.strptime(date, '%m/%d/%Y').date()"
   ]
  },
  {
   "cell_type": "code",
   "execution_count": 4,
   "metadata": {},
   "outputs": [],
   "source": [
    "def days_between(d1, d2):\n",
    "    return abs((d2 - d1).days)"
   ]
  },
  {
   "cell_type": "code",
   "execution_count": 5,
   "metadata": {},
   "outputs": [],
   "source": [
    "def get_daily_data(fitbit_object,activity_type,ID,start_date,last_date,treatment,u_ID):\n",
    "    fitbit_data=fitbit_object.time_series(activity_type, user_id=ID, base_date=start_date,end_date=last_date)\n",
    "    activity_type=activity_type.replace('/', \"-\")\n",
    "    dfItem=pd.io.json.json_normalize(fitbit_data[activity_type])\n",
    "    dfItem['group']=treatment\n",
    "    dfItem['user_ID']=u_ID\n",
    "    dfItem['month_of_treatment']=(np.arange(days_between(start_date,last_date)+1)/30).astype(int)\n",
    "    dfItem['day_of_treatment']=np.arange(days_between(start_date,last_date)+1)\n",
    "    return dfItem"
   ]
  },
  {
   "cell_type": "code",
   "execution_count": 7,
   "metadata": {},
   "outputs": [
    {
     "data": {
      "text/plain": [
       "\"df_calories_3month.to_csv('Calories_3month.csv', header=True, index = False)  \\ndf_steps_3month.to_csv('Steps_3month.csv', header=True, index = False)\\ndf_distance_3month.to_csv('Distance_3month.csv', header=True, index = False)\\ndf_heart_3month.to_csv('Heart_3month.csv', header=True, index = False)\\ndf_bmi_3month.to_csv('Bmi_3month.csv', header=True, index = False)\\ndf_fat_3month.to_csv('Fat_3month.csv', header=True, index = False)\\ndf_weight_3month.to_csv('Weight_3month.csv', header=True, index = False)\\n\\ndf_minutesSedentary_3month.to_csv('MS_3month.csv', header=True, index = False)\\ndf_minutesLightlyActive_3month.to_csv('MLA_3month.csv', header=True, index = False)\\ndf_minutesFairlyActive_3month.to_csv('MFA_3month.csv', header=True, index = False)\\ndf_minutesVeryActive_3month.to_csv('MVA_3month.csv', header=True, index = False)\\n#df_activityCalories_3month.to_csv('AC_3month.csv', header=True, index = False)\\n\""
      ]
     },
     "execution_count": 7,
     "metadata": {},
     "output_type": "execute_result"
    }
   ],
   "source": [
    "df_calories_till_today=pd.DataFrame()\n",
    "df_steps_till_today=pd.DataFrame()\n",
    "df_distance_till_today=pd.DataFrame()\n",
    "df_bmi_till_today=pd.DataFrame()\n",
    "df_fat_till_today=pd.DataFrame()\n",
    "df_weight_till_today=pd.DataFrame()\n",
    "'''df_minutesSedentary_till_today=pd.DataFrame()\n",
    "df_minutesLightlyActive_till_today=pd.DataFrame()\n",
    "df_minutesFairlyActive_till_today=pd.DataFrame()\n",
    "df_minutesVeryActive_till_todaye=pd.DataFrame()'''\n",
    "\n",
    "\n",
    "\n",
    "'''df_calories_3month=pd.DataFrame()\n",
    "df_steps_3month=pd.DataFrame()\n",
    "df_distance_3month=pd.DataFrame()\n",
    "df_heart_3month=pd.DataFrame()\n",
    "df_sleep_3month=pd.DataFrame()\n",
    "df_minutesSedentary_3month=pd.DataFrame()\n",
    "df_minutesLightlyActive_3month=pd.DataFrame()\n",
    "df_minutesFairlyActive_3month=pd.DataFrame()\n",
    "df_minutesVeryActive_3month=pd.DataFrame()\n",
    "df_activityCalories_3month=pd.DataFrame()\n",
    "df_bmi_3month=pd.DataFrame()\n",
    "df_fat_3month=pd.DataFrame()\n",
    "df_weight_3month=pd.DataFrame()'''\n",
    "#[\"calories\", \"steps\", \"distance\",\"heart\",\"sleep\",\"bmi\",\"fat\",\"weight\"]\n",
    "#[\"calories\", \"steps\", \"distance\",\"heart\",\"sleep\",\"minutesSedentary\",\"minutesLightlyActive\",\"minutesFairlyActive\",\"minutesVeryActive\",\"activityCalories\",\"bmi\",\"fat\",\"weight\"\n",
    "activity = [\"calories\", \"steps\", \"distance\",\"bmi\",\"fat\",\"weight\"]\n",
    "fitbit_login=pd.read_csv(\"fitbitSubjectTokens_workingOnly.csv\")\n",
    "#for i in range (fitbit_login.shape[0]):\n",
    "for i in range (fitbit_login.shape[0]):\n",
    "    ID=fitbit_login['User_ID'][i]\n",
    "    client_id=fitbit_login['Client_ID'][i]\n",
    "    client_secret=fitbit_login['Client_secret'][i]\n",
    "    participant_id=fitbit_login['Participant'][i]\n",
    "    token=fitbit_login['Access_Token'][i]\n",
    "    start_per1=fitbit_login['Start_per1'][i]\n",
    "    start_per2=fitbit_login['Start_per2'][i]\n",
    "    start_per3=fitbit_login['Start_per3'][i]\n",
    "    end_per1=fitbit_login['End_per1'][i]\n",
    "    end_per2=fitbit_login['End_per2'][i]\n",
    "    end_per3=fitbit_login['End_per3'][i]\n",
    "    treatment=fitbit_login['treatment'][i]\n",
    "    if not start_per1 is np.NaN:\n",
    "        start_date=convert_string_to_date(start_per1)\n",
    "        end_date=datetime.date.today()\n",
    "        fitbit_object=fitbit.Fitbit(client_id, client_secret,token,token)\n",
    "        for j in range(len(activity)):\n",
    "            activity_type=activity[j]\n",
    "            if activity_type=='calories'or activity_type=='steps' or activity_type=='distance' or activity_type=='heart':\n",
    "                #print(\"do nothing in cal\")\n",
    "                df=get_daily_data(fitbit_object,'activities/'+activity_type,ID,start_date,end_date,treatment,ID)\n",
    "                if activity_type=='calories':\n",
    "                    df_calories_till_today = df_calories_till_today.append(df, ignore_index=True)\n",
    "                elif activity_type=='steps':\n",
    "                    df_steps_till_today = df_steps_till_today.append(df, ignore_index=True)\n",
    "                elif activity_type=='distance':\n",
    "                    df_distance_till_today = df_distance_till_today.append(df, ignore_index=True)\n",
    "                else:\n",
    "                    df_heart_till_today = df_heart_till_today.append(df, ignore_index=True)\n",
    "            else:\n",
    "                if activity_type=='sleep':\n",
    "                    print(\"do nothing in sleep\")\n",
    "                    #df=get_daily_data(fitbit_object,activity_type,ID,start_date,end_date)\n",
    "                else:\n",
    "                    if activity_type=='bmi' or activity_type=='fat' or activity_type=='weight':\n",
    "                        #print(\"do nothing in sleep\")\n",
    "                        df=get_daily_data(fitbit_object,'body/'+activity_type,ID,start_date,end_date,treatment,ID)\n",
    "                        if activity_type=='bmi':\n",
    "                            df_bmi_till_today = df_bmi_till_today.append(df, ignore_index=True)\n",
    "                        elif activity_type=='fat':\n",
    "                            df_fat_till_today= df_fat_till_today.append(df, ignore_index=True)\n",
    "                        else:\n",
    "                            df_weight_till_today = df_weight_till_today.append(df, ignore_index=True)\n",
    "                    else:\n",
    "                        print(\"do nothing in activities tracker\")\n",
    "                        '''df=get_daily_data(fitbit_object,'activities/tracker/'+activity_type,ID,start_date,end_date,treatment,ID)\n",
    "                        if activity_type=='minutesSedentary':\n",
    "                            df_minutesSedentary_till_today = df_minutesSedentary.append(df, ignore_index=True)\n",
    "                        elif activity_type=='minutesLightlyActive':\n",
    "                            df_minutesLightlyActive_till_today = df_minutesLightlyActive.append(df, ignore_index=True)\n",
    "                        elif activity_type=='minutesFairlyActive':\n",
    "                            df_minutesFairlyActive_till_today = df_minutesFairlyActive.append(df, ignore_index=True)                              \n",
    "                        elif activity_type=='minutesVeryActive':    \n",
    "                            df_minutesVeryActive_till_today = df_minutesVeryActive.append(df, ignore_index=True)'''                            \n",
    "                        #else:\n",
    "                            #df_activityCalories = df_activityCalories.append(df, ignore_index=True)'''\n",
    "'''df_minutesSedentary_till_today.to_csv('MS_till_today.csv', header=True, index = False)\n",
    "df_minutesLightlyActive_till_today.to_csv('MLA_till_today.csv', header=True, index = False)\n",
    "df_minutesFairlyActive_till_today.to_csv('MFA_till_today.csv', header=True, index = False)\n",
    "df_minutesVeryActive_till_today.to_csv('MVA_till_today.csv', header=True, index = False)'''\n",
    "#df_activityCalories.to_csv('AC_till_today.csv', header=True, index = False)\n",
    "\n",
    "df_calories_till_today.to_csv('Calories.csv', header=True, index = False)  \n",
    "df_steps_till_today.to_csv('Steps.csv', header=True, index = False)\n",
    "df_distance_till_today.to_csv('Distance.csv', header=True, index = False)\n",
    "#df_heart_till_today.to_csv('Heart.csv', header=True, index = False)\n",
    "df_bmi_till_today.to_csv('Bmi.csv', header=True, index = False)\n",
    "df_fat_till_today.to_csv('Fat.csv', header=True, index = False)\n",
    "df_weight_till_today.to_csv('Weight.csv', header=True, index = False)\n",
    "\n",
    "'''df_calories_3month.to_csv('Calories_3month.csv', header=True, index = False)  \n",
    "df_steps_3month.to_csv('Steps_3month.csv', header=True, index = False)\n",
    "df_distance_3month.to_csv('Distance_3month.csv', header=True, index = False)\n",
    "df_heart_3month.to_csv('Heart_3month.csv', header=True, index = False)\n",
    "df_bmi_3month.to_csv('Bmi_3month.csv', header=True, index = False)\n",
    "df_fat_3month.to_csv('Fat_3month.csv', header=True, index = False)\n",
    "df_weight_3month.to_csv('Weight_3month.csv', header=True, index = False)\n",
    "\n",
    "df_minutesSedentary_3month.to_csv('MS_3month.csv', header=True, index = False)\n",
    "df_minutesLightlyActive_3month.to_csv('MLA_3month.csv', header=True, index = False)\n",
    "df_minutesFairlyActive_3month.to_csv('MFA_3month.csv', header=True, index = False)\n",
    "df_minutesVeryActive_3month.to_csv('MVA_3month.csv', header=True, index = False)\n",
    "#df_activityCalories_3month.to_csv('AC_3month.csv', header=True, index = False)\n",
    "'''"
   ]
  },
  {
   "cell_type": "code",
   "execution_count": 8,
   "metadata": {},
   "outputs": [
    {
     "data": {
      "text/plain": [
       "array([ 0,  0,  0,  0,  0,  0,  0,  0,  0,  0,  0,  0,  0,  0,  0,  0,  0,\n",
       "        0,  0,  0,  0,  0,  0,  0,  0,  0,  0,  0,  0,  0,  1,  1,  1,  1,\n",
       "        1,  1,  1,  1,  1,  1,  1,  1,  1,  1,  1,  1,  1,  1,  1,  1,  1,\n",
       "        1,  1,  1,  1,  1,  1,  1,  1,  1,  2,  2,  2,  2,  2,  2,  2,  2,\n",
       "        2,  2,  2,  2,  2,  2,  2,  2,  2,  2,  2,  2,  2,  2,  2,  2,  2,\n",
       "        2,  2,  2,  2,  2,  3,  3,  3,  3,  3,  3,  3,  3,  3,  3,  3,  3,\n",
       "        3,  3,  3,  3,  3,  3,  3,  3,  3,  3,  3,  3,  3,  3,  3,  3,  3,\n",
       "        3,  4,  4,  4,  4,  4,  4,  4,  4,  4,  4,  4,  4,  4,  4,  4,  4,\n",
       "        4,  4,  4,  4,  4,  4,  4,  4,  4,  4,  4,  4,  4,  4,  5,  5,  5,\n",
       "        5,  5,  5,  5,  5,  5,  5,  5,  5,  5,  5,  5,  5,  5,  5,  5,  5,\n",
       "        5,  5,  5,  5,  5,  5,  5,  5,  5,  5,  6,  6,  6,  6,  6,  6,  6,\n",
       "        6,  6,  6,  6,  6,  6,  6,  6,  6,  6,  6,  6,  6,  6,  6,  6,  6,\n",
       "        6,  6,  6,  6,  6,  6,  7,  7,  7,  7,  7,  7,  7,  7,  7,  7,  7,\n",
       "        7,  7,  7,  7,  7,  7,  7,  7,  7,  7,  7,  7,  7,  7,  7,  7,  7,\n",
       "        7,  7,  8,  8,  8,  8,  8,  8,  8,  8,  8,  8,  8,  8,  8,  8,  8,\n",
       "        8,  8,  8,  8,  8,  8,  8,  8,  8,  8,  8,  8,  8,  8,  8,  9,  9,\n",
       "        9,  9,  9,  9,  9,  9,  9,  9,  9,  9,  9,  9,  9,  9,  9,  9,  9,\n",
       "        9,  9,  9,  9,  9,  9,  9,  9,  9,  9,  9, 10, 10, 10, 10, 10, 10,\n",
       "       10, 10, 10, 10, 10, 10, 10, 10, 10, 10, 10, 10, 10, 10, 10, 10, 10,\n",
       "       10, 10, 10, 10, 10, 10, 10, 11, 11, 11, 11, 11, 11, 11, 11, 11, 11,\n",
       "       11, 11, 11, 11, 11, 11, 11, 11, 11, 11, 11, 11, 11, 11, 11, 11, 11,\n",
       "       11, 11, 11, 12, 12, 12, 12, 12])"
      ]
     },
     "execution_count": 8,
     "metadata": {},
     "output_type": "execute_result"
    }
   ],
   "source": [
    "(np.arange(365)/30).astype(int)"
   ]
  },
  {
   "cell_type": "code",
   "execution_count": 10,
   "metadata": {},
   "outputs": [
    {
     "data": {
      "text/plain": [
       "array([  0,   1,   2,   3,   4,   5,   6,   7,   8,   9,  10,  11,  12,\n",
       "        13,  14,  15,  16,  17,  18,  19,  20,  21,  22,  23,  24,  25,\n",
       "        26,  27,  28,  29,  30,  31,  32,  33,  34,  35,  36,  37,  38,\n",
       "        39,  40,  41,  42,  43,  44,  45,  46,  47,  48,  49,  50,  51,\n",
       "        52,  53,  54,  55,  56,  57,  58,  59,  60,  61,  62,  63,  64,\n",
       "        65,  66,  67,  68,  69,  70,  71,  72,  73,  74,  75,  76,  77,\n",
       "        78,  79,  80,  81,  82,  83,  84,  85,  86,  87,  88,  89,  90,\n",
       "        91,  92,  93,  94,  95,  96,  97,  98,  99, 100, 101, 102, 103,\n",
       "       104, 105, 106, 107, 108, 109, 110, 111, 112, 113, 114, 115, 116,\n",
       "       117, 118, 119, 120, 121, 122, 123, 124, 125, 126, 127, 128, 129,\n",
       "       130, 131, 132, 133, 134, 135, 136, 137, 138, 139, 140, 141, 142,\n",
       "       143, 144, 145, 146, 147, 148, 149, 150, 151, 152, 153, 154, 155,\n",
       "       156, 157, 158, 159, 160, 161, 162, 163, 164, 165, 166, 167, 168,\n",
       "       169, 170, 171, 172, 173, 174, 175, 176, 177, 178, 179, 180, 181,\n",
       "       182, 183, 184, 185, 186, 187, 188, 189, 190, 191, 192, 193, 194,\n",
       "       195, 196, 197, 198, 199, 200, 201, 202, 203, 204, 205, 206, 207,\n",
       "       208, 209, 210, 211, 212, 213, 214, 215, 216, 217, 218, 219, 220,\n",
       "       221, 222, 223, 224, 225, 226, 227, 228, 229, 230, 231, 232, 233,\n",
       "       234, 235, 236, 237, 238, 239, 240, 241, 242, 243, 244, 245, 246,\n",
       "       247, 248, 249, 250, 251, 252, 253, 254, 255, 256, 257, 258, 259,\n",
       "       260, 261, 262, 263, 264, 265, 266, 267, 268, 269, 270, 271, 272,\n",
       "       273, 274, 275, 276, 277, 278, 279, 280, 281, 282, 283, 284, 285,\n",
       "       286, 287, 288, 289, 290, 291, 292, 293, 294, 295, 296, 297, 298,\n",
       "       299, 300, 301, 302, 303, 304, 305, 306, 307, 308, 309, 310, 311,\n",
       "       312, 313, 314, 315, 316, 317, 318, 319, 320, 321, 322, 323, 324,\n",
       "       325, 326, 327, 328, 329, 330, 331, 332, 333, 334, 335, 336, 337,\n",
       "       338, 339, 340, 341, 342, 343, 344, 345, 346, 347, 348, 349, 350,\n",
       "       351, 352, 353, 354, 355, 356, 357, 358, 359, 360, 361, 362, 363,\n",
       "       364])"
      ]
     },
     "execution_count": 10,
     "metadata": {},
     "output_type": "execute_result"
    }
   ],
   "source": [
    "np.arange(365)"
   ]
  }
 ],
 "metadata": {
  "kernelspec": {
   "display_name": "Python 3",
   "language": "python",
   "name": "python3"
  },
  "language_info": {
   "codemirror_mode": {
    "name": "ipython",
    "version": 3
   },
   "file_extension": ".py",
   "mimetype": "text/x-python",
   "name": "python",
   "nbconvert_exporter": "python",
   "pygments_lexer": "ipython3",
   "version": "3.7.1"
  }
 },
 "nbformat": 4,
 "nbformat_minor": 2
}
